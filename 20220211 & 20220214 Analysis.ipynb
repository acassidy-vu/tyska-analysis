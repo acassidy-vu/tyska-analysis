{
 "cells": [
  {
   "cell_type": "code",
   "execution_count": 27,
   "id": "27995246",
   "metadata": {},
   "outputs": [],
   "source": [
    "#I want a way to differentiate each condition\n",
    "# some images are the start of new conditons, but others are contiuations of the previous\n",
    "\n",
    "\n",
    "#I need to differentiate based on #1 conditon (1-7) , #2 channel (gfp vs rfp), #3 area (brush border vs cytoplasm)\n",
    "# then I want to divide brush border by cytoplasm for a given condition and channel and for the same cell\n",
    "# but since they're ordered anyway it should be like brush border 1/cytoplasm 1\n",
    "\n",
    "#1 the following specifiy condition in the sheet (column 1 = condition) --> [0]\n",
    "    # 1 = WT cofilin \n",
    "    # 2 = WT cofilin + MISP\n",
    "    # 3 = MISP\n",
    "    # 4 = S3A cofilin + MISP\n",
    "    # 5 = S3A cofilin\n",
    "    # 6 = S3E cofilin + MISP\n",
    "    # 7 = S3E cofilin\n",
    " #2 channel --> [4]\n",
    "    # RFP\n",
    "    #GFP\n",
    "# 3 area --> [5]\n",
    "    # Brush border\n",
    "    # Cytoplasm\n",
    "# 4 gray area --> [7]\n",
    "    \n",
    "\n",
    "t1bb=[]\n",
    "t1c=[]\n",
    "t2rbb=[]\n",
    "t2rc = []\n",
    "t2gbb=[]\n",
    "t2gc=[]\n",
    "t3bb=[]\n",
    "t3c=[]\n",
    "t4rbb=[]\n",
    "t4rc=[]\n",
    "t4gbb=[]\n",
    "t4gc=[]\n",
    "t5bb=[]\n",
    "t5c=[]\n",
    "t6rbb=[]\n",
    "t6rc=[]\n",
    "t6gbb=[]\n",
    "t6gc=[]\n",
    "t7bb=[]\n",
    "t7c=[]\n",
    "\n",
    "with open (r'C:\\Users\\annao\\Documents\\Tyska Rotation\\20220211 & 20220214 Analysis edit.csv','r') as image_data:\n",
    "    header=image_data.readline()\n",
    "    for line in image_data:\n",
    "        data=line.rstrip().split(',')\n",
    "        if data[0]=='1':\n",
    "            if data [4]=='GFP':\n",
    "                if data [5]=='Brush border':\n",
    "                    t1bb.append(float(data[7]))\n",
    "                elif data [5]=='Cytoplasm ':\n",
    "                    t1c.append(float(data[7]))\n",
    "        elif data[0]=='2':\n",
    "            if data [4]=='GFP':\n",
    "                if data [5]=='Brush border':\n",
    "                    t2gbb.append(float(data[7]))\n",
    "                elif data [5]=='Cytoplasm ':\n",
    "                    t2gc.append(float(data[7]))\n",
    "            elif data [4]=='RFP':\n",
    "                if data [5]=='Brush border':\n",
    "                    t2rbb.append(float(data[7]))\n",
    "                elif data [5]=='Cytoplasm ':\n",
    "                    t2rc.append(float(data[7]))\n",
    "        elif data[0]=='3':\n",
    "            if data [4]=='RFP':\n",
    "                if data [5]=='Brush border':\n",
    "                    t3bb.append(float(data[7]))\n",
    "                elif data [5]=='Cytoplasm ':\n",
    "                    t3c.append(float(data[7]))\n",
    "        elif data[0]=='4':\n",
    "            if data [4]=='GFP':\n",
    "                if data [5]=='Brush border':\n",
    "                    t4gbb.append(float(data[7]))\n",
    "                elif data [5]=='Cytoplasm ':\n",
    "                    t4gc.append(float(data[7]))\n",
    "            elif data [4]=='RFP':\n",
    "                if data [5]=='Brush border':\n",
    "                    t4rbb.append(float(data[7]))\n",
    "                elif data [5]=='Cytoplasm ':\n",
    "                    t4rc.append(float(data[7]))\n",
    "        elif data[0]=='5':\n",
    "            if data [4]=='GFP':\n",
    "                if data [5]=='Brush border':\n",
    "                    t5bb.append(float(data[7]))\n",
    "                elif data [5]=='Cytoplasm ':\n",
    "                    t5c.append(float(data[7]))\n",
    "        elif data[0]=='6':\n",
    "            if data [4]=='GFP':\n",
    "                if data [5]=='Brush border':\n",
    "                    t6gbb.append(float(data[7]))\n",
    "                elif data [5]=='Cytoplasm ':\n",
    "                    t6gc.append(float(data[7]))\n",
    "            elif data [4]=='RFP':\n",
    "                if data [5]=='Brush border':\n",
    "                    t6rbb.append(float(data[7]))\n",
    "                elif data [5]=='Cytoplasm ':\n",
    "                    t6rc.append(float(data[7]))\n",
    "        elif data[0]=='7':\n",
    "            if data [4]=='GFP':\n",
    "                if data [5]=='Brush border':\n",
    "                    t7bb.append(float(data[7]))\n",
    "                elif data [5]=='Cytoplasm ':\n",
    "                    t7c.append(float(data[7]))\n",
    "        else:\n",
    "            end\n",
    "\n",
    "            \n",
    "#now I want to divide bb #1/c #1\n",
    "t1bb_t1c=[]\n",
    "t2rbb_t2rc = []\n",
    "t2gbb_t2gc=[]\n",
    "t3bb_t3c=[]\n",
    "t4rbb_t4rc=[]\n",
    "t4gbb_t4gc=[]\n",
    "t5bb_t5c=[]\n",
    "t6rbb_t6rc=[]\n",
    "t6gbb_t6gc=[]\n",
    "t7bb_t7c=[]\n",
    "\n",
    "\n",
    "# division of lists using map()\n",
    "from operator import truediv\n",
    "res1 = list(map(truediv, t1bb, t1c))\n",
    "t1bb_t1c.append(res1)\n",
    "\n",
    "res2 = list(map(truediv, t2rbb, t2rc))\n",
    "t2rbb_t2rc.append(res2)\n",
    "\n",
    "res3 = list(map(truediv, t2gbb, t2gc))\n",
    "t2gbb_t2gc.append(res3)\n",
    "\n",
    "res4 = list(map(truediv, t3bb, t3c))\n",
    "t3bb_t3c.append(res4)\n",
    "\n",
    "res5 = list(map(truediv, t4rbb, t4rc))\n",
    "t4rbb_t4rc.append(res5)\n",
    "\n",
    "res6 = list(map(truediv, t4gbb, t4gc))\n",
    "t4gbb_t4gc.append(res6)\n",
    "\n",
    "res7 = list(map(truediv, t5bb, t5c))\n",
    "t5bb_t5c.append(res7)\n",
    "\n",
    "res8 = list(map(truediv, t6rbb, t6rc))\n",
    "t6rbb_t6rc.append(res8)\n",
    "\n",
    "res9 = list(map(truediv, t6gbb, t6gc))\n",
    "t6gbb_t6gc.append(res9)      \n",
    "\n",
    "res10 = list(map(truediv, t7bb, t7c))\n",
    "t7bb_t7c.append(res10)"
   ]
  },
  {
   "cell_type": "code",
   "execution_count": 28,
   "id": "c9edc5c1",
   "metadata": {},
   "outputs": [
    {
     "name": "stdout",
     "output_type": "stream",
     "text": [
      "[[0.410433902908854, 0.45972029846745005]]\n",
      "[[3.483402954392716]]\n",
      "[[0.4598037822733715]]\n",
      "[[3.1049729907389247, 3.51096164664615, 3.6579250324774772, 3.124699332120487, 3.73293343330834, 2.606516927319569, 4.461012614898265, 4.4357350396656985, 3.4061566021698]]\n",
      "[[1.4902904442735232, 1.4617712236234348, 1.5787327174053496, 1.1475492109518766, 1.1384720003795488, 1.8372418097535288, 2.5512929809605, 1.0590042311482062, 1.2053898087730546, 2.52251158061236]]\n",
      "[[0.528696503645938, 0.38729957190705894, 0.4379621803257067, 0.5612329099587412, 0.5098287115485269, 0.4258821575988398, 0.5177081296042767, 0.6195780015054573, 0.7027300980958843, 0.6036952667005846]]\n",
      "[[0.47171554980535313, 0.518999293007938, 0.49701009524423306]]\n",
      "[[1.1921777971456586, 2.6533319305288035, 1.3925358036522386, 1.1187273983178254, 1.98442442074292, 2.428015303789138, 1.4099227239533947, 3.3320650441067063]]\n",
      "[[0.5961728860855011, 0.443139666074139, 0.3527705507772873, 0.4404254914032204, 0.42171164901375685, 0.3858894137626856, 0.34477404389263183, 0.5532617862262277]]\n",
      "[[0.3762228514792905]]\n"
     ]
    }
   ],
   "source": [
    "print(t1bb_t1c)\n",
    "print(t2rbb_t2rc)\n",
    "print(t2gbb_t2gc)\n",
    "print(t3bb_t3c)\n",
    "print(t4rbb_t4rc)\n",
    "print(t4gbb_t4gc)\n",
    "print(t5bb_t5c)\n",
    "print(t6rbb_t6rc)\n",
    "print(t6gbb_t6gc)\n",
    "print(t7bb_t7c)"
   ]
  },
  {
   "cell_type": "code",
   "execution_count": 19,
   "id": "143b54aa",
   "metadata": {},
   "outputs": [],
   "source": [
    "for i in t1:\n",
    "    t1_d.append(t1[i]/(t1[i+1]) for i in range(0,len(t1),2))"
   ]
  },
  {
   "cell_type": "code",
   "execution_count": 9,
   "id": "ef7afb2c",
   "metadata": {},
   "outputs": [
    {
     "name": "stdout",
     "output_type": "stream",
     "text": [
      "[59.233, 30.867]\n",
      "[144.318, 67.143]\n",
      "[264.345]\n",
      "[75.887]\n",
      "[126.212]\n",
      "[274.491]\n",
      "[1171.438, 424.391, 346.336, 1279.58, 448.064, 359.165, 443.099, 543.484, 372.671]\n",
      "[377.278, 120.876, 94.681, 409.505, 120.03, 137.795, 99.327, 122.524, 109.411]\n",
      "[203.447, 164.249, 195.485, 61.737, 71.989, 282.588, 188.538, 54.813, 63.917, 267.921]\n",
      "[136.515, 112.363, 123.824, 53.799, 63.233, 153.811, 73.899, 51.759, 53.026, 106.212]\n",
      "[781.82, 382.511, 527.991, 138.748, 213.321, 164.155, 127.058, 52.679, 83.887, 762.97]\n",
      "[1478.769, 987.636, 1205.563, 247.22, 418.417, 385.447, 245.424, 85.024, 119.373, 1263.833]\n",
      "[326.68, 115.987, 107.966]\n",
      "[692.536, 223.482, 217.231]\n",
      "[65.658, 327.851, 104.624, 55.066, 215.826, 217.674, 129.359, 313.514]\n",
      "[55.074, 123.562, 75.132, 49.222, 108.76, 89.651, 91.749, 94.09]\n",
      "[235.44, 436.762, 677.414, 138.786, 442.346, 234.04, 457.189, 1005.062]\n",
      "[394.919, 985.608, 1920.268, 315.118, 1048.93, 606.495, 1326.054, 1816.612]\n",
      "[849.527]\n",
      "[2258.042]\n"
     ]
    }
   ],
   "source": [
    "print(t1bb)\n",
    "print(t1c)\n",
    "print(t2rbb)\n",
    "print(t2rc)\n",
    "print(t2gbb)\n",
    "print(t2gc)\n",
    "print(t3bb)\n",
    "print(t3c)\n",
    "print(t4rbb)\n",
    "print(t4rc)\n",
    "print(t4gbb)\n",
    "print(t4gc)\n",
    "print(t5bb)\n",
    "print(t5c)\n",
    "print(t6rbb)\n",
    "print(t6rc)\n",
    "print(t6gbb)\n",
    "print(t6gc)\n",
    "print(t7bb)\n",
    "print(t7c)"
   ]
  },
  {
   "cell_type": "code",
   "execution_count": 73,
   "id": "edb4f7ac",
   "metadata": {},
   "outputs": [
    {
     "data": {
      "image/png": "[encoded data removed]",
      "text/plain": [
       "<Figure size 432x288 with 1 Axes>"
      ]
     },
     "metadata": {
      "needs_background": "light"
     },
     "output_type": "display_data"
    }
   ],
   "source": [
    "import matplotlib.pyplot as plt\n",
    "import matplotlib.patches as patch\n",
    "\n",
    "x1= t1bb_t1c\n",
    "x2= t2rbb_t2rc \n",
    "x3= t2gbb_t2gc\n",
    "x4= t3bb_t3c\n",
    "x5= t4rbb_t4rc\n",
    "x6= t4gbb_t4gc\n",
    "x7= t5bb_t5c\n",
    "x8= t6rbb_t6rc\n",
    "x9= t6gbb_t6gc\n",
    "x10= t7bb_t7c\n",
    "\n",
    "    # 1 = WT cofilin \n",
    "    # 2 = WT cofilin + MISP\n",
    "    # 3 = MISP\n",
    "    # 4 = S3A cofilin + MISP\n",
    "    # 5 = S3A cofilin\n",
    "    # 6 = S3E cofilin + MISP\n",
    "    # 7 = S3E cofilin\n",
    "\n",
    "import numpy as np\n",
    "x1_array = np.array(t1bb_t1c)\n",
    "x2_array = np.array(t2rbb_t2rc)\n",
    "x3_array = np.array(t2gbb_t2gc)\n",
    "x4_array = np.array(t3bb_t3c)\n",
    "x5_array = np.array(t4rbb_t4rc)\n",
    "x6_array = np.array(t4gbb_t4gc)\n",
    "x7_array = np.array(t5bb_t5c)\n",
    "x8_array = np.array(t6rbb_t6rc)\n",
    "x9_array = np.array(t6gbb_t6gc)\n",
    "x10_array = np.array(t7bb_t7c)\n",
    "\n",
    "import seaborn as sns\n",
    "green_diamond = dict(markerfacecolor='b', marker='.', alpha=0.08)\n",
    "red= dict(color='r')\n",
    "blue= dict(color='b')\n",
    "labels=['WT cofilin','WT cofilin (WT cofilin + MISP)', 'MISP (WT cofilin + MISP)', 'MISP', 'S3A cofilin (S3A cofilin + MISP)','MISP(S3A cofilin + MISP)','S3A cofilin', 'S3E cofilin (S3E cofilin + MISP)', 'S3E cofilin','MISP(S3E cofilin + MISP)']\n",
    "data = [x1_array.flatten(), x3_array.flatten(), x2_array.flatten(), x4_array.flatten(), x6_array.flatten(),\n",
    "        x5_array.flatten(), x7_array.flatten(), x9_array.flatten(), x8_array.flatten(), x10_array.flatten()]\n",
    "fig, ax = plt.subplots()\n",
    "ax.set_title('Distribution of Cofilin and MISP', fontsize=25)\n",
    "ax.set_xlabel('Codition', fontsize=15)\n",
    "ax.set_ylabel('Mean Gray Value', fontsize=15)\n",
    "\n",
    "plt.xticks(rotation = 90)\n",
    "AX= ax.boxplot(data, showmeans=True, labels= labels, flierprops=green_diamond, medianprops=red, meanprops=blue)\n",
    "\n",
    "plt.savefig('Boxplot of Velocity Distributions cell 254.jpg', dpi=300, bbox_inches='tight')\n",
    "plt.show()"
   ]
  },
  {
   "cell_type": "code",
   "execution_count": 74,
   "id": "d5f32d86",
   "metadata": {},
   "outputs": [
    {
     "data": {
      "text/plain": [
       "KruskalResult(statistic=45.4103540647566, pvalue=7.746166211044666e-07)"
      ]
     },
     "execution_count": 74,
     "metadata": {},
     "output_type": "execute_result"
    }
   ],
   "source": [
    "from scipy import stats\n",
    "stats.kruskal(x1_array.flatten(), x3_array.flatten(), x2_array.flatten(), x4_array.flatten(), x6_array.flatten(),\n",
    "        x5_array.flatten(), x7_array.flatten(), x9_array.flatten(), x8_array.flatten(), x10_array.flatten())"
   ]
  },
  {
   "cell_type": "code",
   "execution_count": 76,
   "id": "43d1b303",
   "metadata": {},
   "outputs": [
    {
     "data": {
      "text/plain": [
       "Ttest_indResult(statistic=6.07099039532281, pvalue=9.748151709462349e-06)"
      ]
     },
     "execution_count": 76,
     "metadata": {},
     "output_type": "execute_result"
    }
   ],
   "source": [
    "from scipy import stats\n",
    "stats.ttest_ind(x5_array.flatten(), x6_array.flatten())"
   ]
  },
  {
   "cell_type": "code",
   "execution_count": null,
   "id": "b55f4c80",
   "metadata": {},
   "outputs": [],
   "source": []
  },
  {
   "cell_type": "code",
   "execution_count": 39,
   "id": "87466d44",
   "metadata": {},
   "outputs": [
    {
     "data": {
      "text/plain": [
       "True"
      ]
     },
     "execution_count": 39,
     "metadata": {},
     "output_type": "execute_result"
    }
   ],
   "source": [
    "isinstance (t1bb_t1c, list)"
   ]
  },
  {
   "cell_type": "code",
   "execution_count": 50,
   "id": "c1fafcf4",
   "metadata": {},
   "outputs": [
    {
     "data": {
      "text/plain": [
       "2"
      ]
     },
     "execution_count": 50,
     "metadata": {},
     "output_type": "execute_result"
    }
   ],
   "source": [
    "import numpy as np\n",
    "x5_array.ndim"
   ]
  }
 ],
 "metadata": {
  "kernelspec": {
   "display_name": "Python 3",
   "language": "python",
   "name": "python3"
  },
  "language_info": {
   "codemirror_mode": {
    "name": "ipython",
    "version": 3
   },
   "file_extension": ".py",
   "mimetype": "text/x-python",
   "name": "python",
   "nbconvert_exporter": "python",
   "pygments_lexer": "ipython3",
   "version": "3.8.8"
  }
 },
 "nbformat": 4,
 "nbformat_minor": 5
}
